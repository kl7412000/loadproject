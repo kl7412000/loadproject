{
 "cells": [
  {
   "cell_type": "markdown",
   "metadata": {},
   "source": [
    "### 本金攤還計算方式"
   ]
  },
  {
   "cell_type": "code",
   "execution_count": 3,
   "metadata": {},
   "outputs": [
    {
     "data": {
      "text/plain": [
       "(100000, 5, 2)"
      ]
     },
     "execution_count": 3,
     "metadata": {},
     "output_type": "execute_result"
    }
   ],
   "source": [
    "amount=100000\n",
    "years=5\n",
    "rate=2\n",
    "\n",
    "amount,years,rate"
   ]
  },
  {
   "cell_type": "markdown",
   "metadata": {},
   "source": [
    "### 固定本金"
   ]
  },
  {
   "cell_type": "code",
   "execution_count": 5,
   "metadata": {},
   "outputs": [
    {
     "data": {
      "text/plain": [
       "1666"
      ]
     },
     "execution_count": 5,
     "metadata": {},
     "output_type": "execute_result"
    }
   ],
   "source": [
    "period=years*12\n",
    "month_pay=int(amount/period)\n",
    "month_pay"
   ]
  },
  {
   "cell_type": "markdown",
   "metadata": {},
   "source": [
    "### 月利率"
   ]
  },
  {
   "cell_type": "code",
   "execution_count": 6,
   "metadata": {},
   "outputs": [
    {
     "data": {
      "text/plain": [
       "0.0016666666666666668"
      ]
     },
     "execution_count": 6,
     "metadata": {},
     "output_type": "execute_result"
    }
   ],
   "source": [
    "month_rate=rate/100/12\n",
    "month_rate"
   ]
  },
  {
   "cell_type": "code",
   "execution_count": 7,
   "metadata": {},
   "outputs": [
    {
     "data": {
      "text/plain": [
       "167"
      ]
     },
     "execution_count": 7,
     "metadata": {},
     "output_type": "execute_result"
    }
   ],
   "source": [
    "interest=round(amount*month_rate)\n",
    "interest"
   ]
  },
  {
   "cell_type": "markdown",
   "metadata": {},
   "source": [
    "### 每個月還款金額利息"
   ]
  },
  {
   "cell_type": "code",
   "execution_count": 31,
   "metadata": {},
   "outputs": [
    {
     "name": "stdout",
     "output_type": "stream",
     "text": [
      "期別:1 本金:1666 利息:167 本利和:1833 餘額:98334\n",
      "期別:2 本金:1666 利息:164 本利和:1830 餘額:96668\n",
      "期別:3 本金:1666 利息:161 本利和:1827 餘額:95002\n",
      "期別:4 本金:1666 利息:158 本利和:1824 餘額:93336\n",
      "期別:5 本金:1666 利息:156 本利和:1822 餘額:91670\n",
      "期別:6 本金:1666 利息:153 本利和:1819 餘額:90004\n",
      "期別:7 本金:1666 利息:150 本利和:1816 餘額:88338\n",
      "期別:8 本金:1666 利息:147 本利和:1813 餘額:86672\n",
      "期別:9 本金:1666 利息:144 本利和:1810 餘額:85006\n",
      "期別:10 本金:1666 利息:142 本利和:1808 餘額:83340\n",
      "期別:11 本金:1666 利息:139 本利和:1805 餘額:81674\n",
      "期別:12 本金:1666 利息:136 本利和:1802 餘額:80008\n",
      "期別:13 本金:1666 利息:133 本利和:1799 餘額:78342\n",
      "期別:14 本金:1666 利息:131 本利和:1797 餘額:76676\n",
      "期別:15 本金:1666 利息:128 本利和:1794 餘額:75010\n",
      "期別:16 本金:1666 利息:125 本利和:1791 餘額:73344\n",
      "期別:17 本金:1666 利息:122 本利和:1788 餘額:71678\n",
      "期別:18 本金:1666 利息:119 本利和:1785 餘額:70012\n",
      "期別:19 本金:1666 利息:117 本利和:1783 餘額:68346\n",
      "期別:20 本金:1666 利息:114 本利和:1780 餘額:66680\n",
      "期別:21 本金:1666 利息:111 本利和:1777 餘額:65014\n",
      "期別:22 本金:1666 利息:108 本利和:1774 餘額:63348\n",
      "期別:23 本金:1666 利息:106 本利和:1772 餘額:61682\n",
      "期別:24 本金:1666 利息:103 本利和:1769 餘額:60016\n",
      "期別:25 本金:1666 利息:100 本利和:1766 餘額:58350\n",
      "期別:26 本金:1666 利息:97 本利和:1763 餘額:56684\n",
      "期別:27 本金:1666 利息:94 本利和:1760 餘額:55018\n",
      "期別:28 本金:1666 利息:92 本利和:1758 餘額:53352\n",
      "期別:29 本金:1666 利息:89 本利和:1755 餘額:51686\n",
      "期別:30 本金:1666 利息:86 本利和:1752 餘額:50020\n",
      "期別:31 本金:1666 利息:83 本利和:1749 餘額:48354\n",
      "期別:32 本金:1666 利息:81 本利和:1747 餘額:46688\n",
      "期別:33 本金:1666 利息:78 本利和:1744 餘額:45022\n",
      "期別:34 本金:1666 利息:75 本利和:1741 餘額:43356\n",
      "期別:35 本金:1666 利息:72 本利和:1738 餘額:41690\n",
      "期別:36 本金:1666 利息:69 本利和:1735 餘額:40024\n",
      "期別:37 本金:1666 利息:67 本利和:1733 餘額:38358\n",
      "期別:38 本金:1666 利息:64 本利和:1730 餘額:36692\n",
      "期別:39 本金:1666 利息:61 本利和:1727 餘額:35026\n",
      "期別:40 本金:1666 利息:58 本利和:1724 餘額:33360\n",
      "期別:41 本金:1666 利息:56 本利和:1722 餘額:31694\n",
      "期別:42 本金:1666 利息:53 本利和:1719 餘額:30028\n",
      "期別:43 本金:1666 利息:50 本利和:1716 餘額:28362\n",
      "期別:44 本金:1666 利息:47 本利和:1713 餘額:26696\n",
      "期別:45 本金:1666 利息:44 本利和:1710 餘額:25030\n",
      "期別:46 本金:1666 利息:42 本利和:1708 餘額:23364\n",
      "期別:47 本金:1666 利息:39 本利和:1705 餘額:21698\n",
      "期別:48 本金:1666 利息:36 本利和:1702 餘額:20032\n",
      "期別:49 本金:1666 利息:33 本利和:1699 餘額:18366\n",
      "期別:50 本金:1666 利息:31 本利和:1697 餘額:16700\n",
      "期別:51 本金:1666 利息:28 本利和:1694 餘額:15034\n",
      "期別:52 本金:1666 利息:25 本利和:1691 餘額:13368\n",
      "期別:53 本金:1666 利息:22 本利和:1688 餘額:11702\n",
      "期別:54 本金:1666 利息:20 本利和:1686 餘額:10036\n",
      "期別:55 本金:1666 利息:17 本利和:1683 餘額:8370\n",
      "期別:56 本金:1666 利息:14 本利和:1680 餘額:6704\n",
      "期別:57 本金:1666 利息:11 本利和:1677 餘額:5038\n",
      "期別:58 本金:1666 利息:8 本利和:1674 餘額:3372\n",
      "期別:59 本金:1666 利息:6 本利和:1672 餘額:1706\n",
      "期別:60 本金:1706 利息:3 本利和:1709 餘額:0\n"
     ]
    }
   ],
   "source": [
    "amount=100000\n",
    "years=5\n",
    "rate=2\n",
    "period=years*12\n",
    "month_pay=int(amount/period)\n",
    "month_rate=rate/100/12\n",
    "\n",
    "datas=[]\n",
    "for i in range(period):\n",
    "    interest=round(amount*month_rate)\n",
    "    amount-=month_pay\n",
    "    \n",
    "    if i ==period-1:\n",
    "        print(f'期別:{i+1} 本金:{month_pay+amount} 利息:{interest} 本利和:{month_pay+interest+amount} 餘額:{0}')\n",
    "        datas.append([month_pay+amount,interest,month_pay+interest+amount,0])\n",
    "    else:\n",
    "        print(f'期別:{i+1} 本金:{month_pay} 利息:{interest} 本利和:{month_pay+interest} 餘額:{amount}')\n",
    "        datas.append([month_pay,interest,month_pay+interest,amount-month_pay])"
   ]
  }
 ],
 "metadata": {
  "kernelspec": {
   "display_name": "Python 3",
   "language": "python",
   "name": "python3"
  },
  "language_info": {
   "codemirror_mode": {
    "name": "ipython",
    "version": 3
   },
   "file_extension": ".py",
   "mimetype": "text/x-python",
   "name": "python",
   "nbconvert_exporter": "python",
   "pygments_lexer": "ipython3",
   "version": "3.12.1"
  }
 },
 "nbformat": 4,
 "nbformat_minor": 2
}
